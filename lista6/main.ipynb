{
 "cells": [
  {
   "cell_type": "markdown",
   "metadata": {},
   "source": [
    "## Zadanie 1"
   ]
  },
  {
   "cell_type": "code",
   "execution_count": null,
   "metadata": {},
   "outputs": [],
   "source": [
    "class Vertex():\n",
    "    \"\"\"Taken partialy from lecture\"\"\"\n",
    "    def __init__(self,value):\n",
    "        self._value = value \n",
    "        self._neighbours = {}\n",
    "\n",
    "    def __str__(self):\n",
    "        return str(self._value) + ' connectedTo: ' + str([x._value for x in self._neighbours])\n",
    "    \n",
    "    def add_neighbour(self, vertex, weight):\n",
    "        self._neighbours[vertex] = weight\n",
    "\n",
    "    def get_value(self):\n",
    "        return self._value\n",
    "\n",
    "    def get_neighbours(self):\n",
    "        return self._neighbours.keys()\n",
    "\n",
    "    def get_weight(self, vertex):\n",
    "        return self._neighbours[vertex]\n",
    "    \n",
    "class Graph():\n",
    "    def __init__(self):\n",
    "        self._vertices = []\n",
    "        self._vertices_number = 0\n",
    "\n",
    "    def __contains__(self,element):\n",
    "        return element in self._vertices\n",
    "\n",
    "    def add_vertex(self, value):\n",
    "        self._vertices_number += 1\n",
    "        self._vertices.append(Vertex(value))\n",
    "        \n",
    "\n",
    "    def add_edge(self, from_vertex, to_vertex):\n",
    "        return\n",
    "\n",
    "    def get_vertex(self,vertex):\n",
    "        return\n",
    "\n",
    "    def get_vertices(self):\n",
    "        return\n",
    "\n",
    "    def get_edges(self):\n",
    "        return"
   ]
  }
 ],
 "metadata": {
  "language_info": {
   "name": "python"
  }
 },
 "nbformat": 4,
 "nbformat_minor": 2
}
