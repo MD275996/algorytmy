{
 "cells": [
  {
   "cell_type": "code",
   "execution_count": 12,
   "metadata": {},
   "outputs": [],
   "source": [
    "import ctypes #tablice niskopoziomowe\n",
    "import random"
   ]
  },
  {
   "cell_type": "markdown",
   "metadata": {},
   "source": [
    "# Zadanie 1"
   ]
  },
  {
   "cell_type": "code",
   "execution_count": 7,
   "metadata": {},
   "outputs": [],
   "source": [
    "#zaimplementowanie klasy dynamic array z wykładu\n",
    "\n",
    "class DynamicArray:\n",
    "\n",
    "    def __init__(self):\n",
    "        self._n = 0     #liczba elementów\n",
    "        self._capacity = 1      #rozmiar tablicy\n",
    "        self._A = self._make_array(self._capacity)      #właściwa tablica\n",
    "    \n",
    "    def __len__(self):\n",
    "        return self._n\n",
    "    \n",
    "    def __getitem__(self, k):\n",
    "        if not 0 <= k < self._n:\n",
    "            raise IndexError(\"invalid index\")\n",
    "        return self._A[k]\n",
    "    \n",
    "    def __str__(self):\n",
    "        temp = \"|\"\n",
    "        for i in range(0,self._n):\n",
    "            temp += f\"{self._A[i]}|\"\n",
    "        for i in range(0,self._capacity-self._n):\n",
    "            temp += \" |\"\n",
    "        return(temp)\n",
    "    \n",
    "    def append(self,obj):\n",
    "        if self._n == self._capacity:\n",
    "            self.resize(2*self._capacity)\n",
    "        self._A[self._n] = obj\n",
    "        self._n += 1\n",
    "\n",
    "    def resize(self,c):\n",
    "        B = self._make_array(c)\n",
    "        for k in range(self._n):\n",
    "            B[k] = self._A[k]\n",
    "        self._A = B\n",
    "        self._capacity = c\n",
    "\n",
    "    def _make_array(self,c):\n",
    "        return(c*ctypes.py_object)()\n",
    "    \n",
    "    #metody z zadania 1\n",
    "    def insert(self, k, value):\n",
    "    # gdzie można wstawiać wartości?\n",
    "\n",
    "        if not 0 < k <= self._n:\n",
    "            raise IndexError(\"invalid index\")\n",
    "        else:       \n",
    "            if self._n == self._capacity:       #sprawdza czy jest miejsce\n",
    "                self.resize(2*self._capacity)    \n",
    "            for i in range(0,self._n - k + 1):        #przesuwa o jeden dalej\n",
    "                self._A[self._n-i] = self._A[self._n - i - 1] \n",
    "        self._A[k-1] = value                  #dodaje wartość\n",
    "        self._n += 1                        #zwiększa licznik\n",
    "\n",
    "    def remove(self, value):    #znajdzie i usunie pierwsze wystąpienie value, dziurę zaklei\n",
    "    # jakie wartości mają być usuwane? pierwsze wystąpienie czy każde? dziury mają być zaklejone?\n",
    "        k = 0\n",
    "        for i in range(0,self._n):\n",
    "            if self._A[i] == value:\n",
    "                k = i\n",
    "                break\n",
    "        for i in range(k,self._n-1):\n",
    "            self._A[i] = self._A[i+1]\n",
    "        self._n -= 1\n",
    "        self.resize(self._capacity)\n",
    "    \n",
    "    def expand(self,seq):\n",
    "        if self.capacity < self._n + len(seq):\n",
    "            self.resize(self._n + len(seq))\n",
    "        for i in range(0,len(seq)):\n",
    "            self._A[self._n + i] = seq[i]\n",
    "        self._n = self._n + len(seq)\n"
   ]
  },
  {
   "cell_type": "code",
   "execution_count": 11,
   "metadata": {},
   "outputs": [
    {
     "name": "stdout",
     "output_type": "stream",
     "text": [
      "|1|2|3|4|5|10|11|12|13|14|15|\n"
     ]
    }
   ],
   "source": [
    "dynamic = DynamicArray()\n",
    "dynamic.append(1) \n",
    "dynamic.append(2) \n",
    "dynamic.append(3)\n",
    "dynamic.append(4)\n",
    "dynamic.append(5)\n",
    "dynamic.expand([10,11,12,13,14,15])\n",
    "print(dynamic)\n"
   ]
  },
  {
   "cell_type": "markdown",
   "metadata": {},
   "source": [
    "# Zadanie 2"
   ]
  },
  {
   "cell_type": "code",
   "execution_count": null,
   "metadata": {},
   "outputs": [],
   "source": [
    "#różne indeksy -> początek, koniec, środek"
   ]
  },
  {
   "cell_type": "markdown",
   "metadata": {},
   "source": [
    "# Zadanie 3"
   ]
  },
  {
   "cell_type": "code",
   "execution_count": 21,
   "metadata": {},
   "outputs": [],
   "source": [
    "def r2summ(seq):\n",
    "    sum=0\n",
    "    for el in seq:\n",
    "        summ = 0\n",
    "        for ell in el:\n",
    "            summ += ell\n",
    "        sum += summ\n",
    "    return sum        \n"
   ]
  },
  {
   "cell_type": "code",
   "execution_count": 22,
   "metadata": {},
   "outputs": [
    {
     "name": "stdout",
     "output_type": "stream",
     "text": [
      "[[1, 4], [-3, 4], [-8, -8], [9, 4], [10, -6], [-10, 5], [9, -9], [7, -7], [-9, 0], [10, 5]]\n",
      "8\n"
     ]
    }
   ],
   "source": [
    "tabr2 = [[random.randint(-10,10) for i in range(0,2)] for i in range(0,10)]\n",
    "print(tabr2)\n",
    "print(r2summ(tabr2))"
   ]
  },
  {
   "cell_type": "markdown",
   "metadata": {},
   "source": [
    "# Zadanie 4"
   ]
  },
  {
   "cell_type": "code",
   "execution_count": null,
   "metadata": {},
   "outputs": [],
   "source": []
  },
  {
   "cell_type": "markdown",
   "metadata": {},
   "source": [
    "# Zadanie 5"
   ]
  },
  {
   "cell_type": "code",
   "execution_count": null,
   "metadata": {},
   "outputs": [],
   "source": []
  }
 ],
 "metadata": {
  "kernelspec": {
   "display_name": "Python 3",
   "language": "python",
   "name": "python3"
  },
  "language_info": {
   "codemirror_mode": {
    "name": "ipython",
    "version": 3
   },
   "file_extension": ".py",
   "mimetype": "text/x-python",
   "name": "python",
   "nbconvert_exporter": "python",
   "pygments_lexer": "ipython3",
   "version": "3.8.6"
  }
 },
 "nbformat": 4,
 "nbformat_minor": 2
}
