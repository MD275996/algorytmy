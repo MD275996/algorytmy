{
 "cells": [
  {
   "cell_type": "code",
   "execution_count": null,
   "metadata": {},
   "outputs": [],
   "source": [
    "import ctypes #tablice niskopoziomowe"
   ]
  },
  {
   "cell_type": "code",
   "execution_count": null,
   "metadata": {},
   "outputs": [],
   "source": [
    "#zaimplementowanie klasy dynamic array z wykładu\n",
    "\n",
    "class DynamicArray:\n",
    "\n",
    "    def __init__(self):\n",
    "        self._n = 0     #liczba elementów\n",
    "        self._capacity = 1      #rozmiar tablicy\n",
    "        self._A = self._make_array(self._capacity)      #właściwa tablica\n",
    "    \n",
    "    def __len__(self):\n",
    "        return self._n\n",
    "    \n",
    "    def __getitem__(self, k):\n",
    "        if not 0 <= k < self._n:\n",
    "            raise IndexError(\"invalid index\")\n",
    "        return self._A[k]\n",
    "    \n",
    "    def append(self,obj):\n",
    "        if self._n == self._capacity:\n",
    "            self._resize(2*self._capacity)\n",
    "        self._A[self._n] = obj\n",
    "        self._n += 1\n",
    "\n",
    "    def resize(self,c):\n",
    "        B = self._make_array(c)\n",
    "        for k in range(self._n):\n",
    "            B[k] = self._A[k]\n",
    "        self._A = B\n",
    "        self._capacity = c\n",
    "\n",
    "    def _make_array(self,c):\n",
    "        return(c*ctypes.py_object)()"
   ]
  }
 ],
 "metadata": {
  "language_info": {
   "name": "python"
  }
 },
 "nbformat": 4,
 "nbformat_minor": 2
}
