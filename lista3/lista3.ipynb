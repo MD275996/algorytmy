{
 "cells": [
  {
   "cell_type": "code",
   "execution_count": 1,
   "metadata": {},
   "outputs": [],
   "source": [
    "import ctypes #tablice niskopoziomowe\n",
    "import random\n",
    "from timeit import default_timer as timer\n",
    "import re\n",
    "from matplotlib import pyplot as plt"
   ]
  },
  {
   "cell_type": "markdown",
   "metadata": {},
   "source": [
    "# Zadanie 1"
   ]
  },
  {
   "cell_type": "code",
   "execution_count": null,
   "metadata": {},
   "outputs": [],
   "source": [
    "#zaimplementowanie klasy dynamic array z wykładu\n",
    "\n",
    "class DynamicArray:\n",
    "\n",
    "    def __init__(self):\n",
    "        self._n = 0                                     #liczba elementów\n",
    "        self._capacity = 1                              #rozmiar tablicy\n",
    "        self._A = self._make_array(self._capacity)      #właściwa tablica\n",
    "    \n",
    "    def __len__(self):\n",
    "        return self._n\n",
    "    \n",
    "    def __getitem__(self, k):\n",
    "        if not 0 <= k < self._n:\n",
    "            raise IndexError(\"invalid index\")\n",
    "        return self._A[k]\n",
    "    \n",
    "    def __str__(self):\n",
    "        #tworzy stringa sklejając wyraz po wyrazie tablicy\n",
    "\n",
    "        temp = \"|\"\n",
    "        for i in range(0,self._n):\n",
    "            temp += f\"{self._A[i]}|\"\n",
    "        for i in range(0,self._capacity-self._n):\n",
    "            temp += \" |\"\n",
    "        return(temp)\n",
    "    \n",
    "    def append(self,obj):\n",
    "        if self._n == self._capacity:\n",
    "            self.resize(2*self._capacity)\n",
    "        self._A[self._n] = obj\n",
    "        self._n += 1\n",
    "\n",
    "    def resize(self,c):\n",
    "        B = self._make_array(c)\n",
    "        for k in range(self._n):\n",
    "            B[k] = self._A[k]\n",
    "        self._A = B\n",
    "        self._capacity = c\n",
    "\n",
    "    def _make_array(self,c):\n",
    "        return(c*ctypes.py_object)()\n",
    "    \n",
    "    #metody z zadania 1\n",
    "    def insert(self, k, value):\n",
    "        if not 0 < k <= self._n:\n",
    "            raise IndexError(\"invalid index\")\n",
    "        else:       \n",
    "            if self._n == self._capacity:       #sprawdza czy jest miejsce\n",
    "                self.resize(2*self._capacity)    \n",
    "            for i in range(0,self._n - k + 1):        #przesuwa o jeden dalej\n",
    "                self._A[self._n-i] = self._A[self._n - i - 1] \n",
    "        self._A[k-1] = value                  #dodaje wartość\n",
    "        self._n += 1                        #zwiększa licznik\n",
    "\n",
    "    def remove(self, value):    #znajdzie i usunie pierwsze wystąpienie value, dziurę zaklei\n",
    "        k = 0\n",
    "        for i in range(0,self._n):\n",
    "            if self._A[i] == value:\n",
    "                k = i\n",
    "                break\n",
    "        for i in range(k,self._n-1):\n",
    "            self._A[i] = self._A[i+1]\n",
    "        self._n -= 1\n",
    "        self.resize(self._capacity)\n",
    "    \n",
    "    def expand(self,seq):\n",
    "        if self._capacity < self._n + len(seq):\n",
    "            self.resize(self._n + len(seq))\n",
    "        for i in range(0,len(seq)):\n",
    "            self._A[self._n + i] = seq[i]\n",
    "        self._n = self._n + len(seq)\n"
   ]
  },
  {
   "cell_type": "code",
   "execution_count": null,
   "metadata": {},
   "outputs": [],
   "source": [
    "dynamic = DynamicArray()\n",
    "dynamic.append(1) \n",
    "dynamic.append(2) \n",
    "dynamic.append(3)\n",
    "dynamic.append(4)\n",
    "dynamic.append(5)\n",
    "dynamic.expand([10,11,12,13,14,15])\n",
    "print(dynamic)\n"
   ]
  },
  {
   "cell_type": "markdown",
   "metadata": {},
   "source": [
    "# Zadanie 2"
   ]
  },
  {
   "cell_type": "code",
   "execution_count": null,
   "metadata": {},
   "outputs": [],
   "source": [
    "def measure_time_pop(seq,n):\n",
    "    start = timer()\n",
    "    #t = time.process_time()\n",
    "    seq.pop(n)\n",
    "    #t2 = time.process_time()\n",
    "    end = timer()\n",
    "    return (end-start)"
   ]
  },
  {
   "cell_type": "code",
   "execution_count": null,
   "metadata": {},
   "outputs": [],
   "source": [
    "seq = [1,2,3,4,5,6,7,8,9,8,7,6,5,4,3,2,1]\n",
    "measurements = []\n",
    "for idx in range(0,len(seq)):       #dla jakiego indexu \n",
    "    mean = 0\n",
    "    for i in range(0,10):           #ilość pomiarów do średniej\n",
    "        mean += measure_time_pop(seq,idx)\n",
    "        seq = [1,2,3,4,5,6,7,8,9,8,7,6,5,4,3,2,1]\n",
    "    mean = mean / 10\n",
    "    measurements.append(mean)\n",
    "\n",
    "\n",
    "fig, ax = plt.subplots()\n",
    "ax.plot(range(0,len(seq)),measurements)\n",
    "ax.set_xlabel(\"indexes\")\n",
    "ax.set_ylabel(\"times\")\n",
    "\n"
   ]
  },
  {
   "cell_type": "markdown",
   "metadata": {},
   "source": [
    "są praktycznie takie same"
   ]
  },
  {
   "cell_type": "markdown",
   "metadata": {},
   "source": [
    "# Zadanie 3"
   ]
  },
  {
   "cell_type": "code",
   "execution_count": null,
   "metadata": {},
   "outputs": [],
   "source": [
    "def r2summ(seq):\n",
    "    if type(seq) == type([]):\n",
    "        sum=0\n",
    "        for el in seq:\n",
    "            if type(el) == type([]):\n",
    "                summ = 0\n",
    "                for ell in el:\n",
    "                    summ += ell\n",
    "                sum += summ\n",
    "            else:\n",
    "                sum = \"zły rodzaj tablicy\"\n",
    "                break\n",
    "    else:\n",
    "        sum = \"zły rodzaj tablicy\"\n",
    "\n",
    "    return sum        \n"
   ]
  },
  {
   "cell_type": "code",
   "execution_count": null,
   "metadata": {},
   "outputs": [],
   "source": [
    "tabr2 = [[random.randint(-10,10) for i in range(0,2)] for i in range(0,10)]\n",
    "print(r2summ(tabr2))"
   ]
  },
  {
   "cell_type": "markdown",
   "metadata": {},
   "source": [
    "# Zadanie 4"
   ]
  },
  {
   "cell_type": "code",
   "execution_count": null,
   "metadata": {},
   "outputs": [],
   "source": [
    "\n",
    "measurements1 = []\n",
    "measurements2 = []\n",
    "\n",
    "for i in range(1,1000,100):   #ilość dodawanych elementów\n",
    "    \n",
    "    measure_time1 = 0\n",
    "    measure_time2 = 0\n",
    "    \n",
    "    for j in range(0,10):   #ilość pomiarów\n",
    "        dynamic = DynamicArray()\n",
    "        stop = timer()\n",
    "        dynamic.expand(list(range(0,i)))\n",
    "        end = timer()\n",
    "        measure_time1 += (end - stop)\n",
    "    \n",
    "    for j in range(0,10):   #ilość pomiarów\n",
    "        dynamic = DynamicArray()\n",
    "        stop = timer()\n",
    "        for i in range(0,i):\n",
    "            dynamic.append(i)\n",
    "        end = timer()\n",
    "        measure_time2 += (end - stop)\n",
    "   \n",
    "   \n",
    "    measurements1.append(measure_time1/10)\n",
    "    measurements2.append(measure_time2/10)\n",
    "\n",
    "\n",
    "fig, ax = plt.subplots()\n",
    "ax.plot(range(1,1000,100),measurements1, label = \"expand\")\n",
    "ax.plot(range(1,1000,100),measurements2, label = \"append\" )\n",
    "ax.set_xlabel(\"indexes\")\n",
    "ax.set_ylabel(\"times\")\n",
    "ax.legend()\n",
    "    "
   ]
  },
  {
   "cell_type": "markdown",
   "metadata": {},
   "source": [
    "# Zadanie 5"
   ]
  },
  {
   "cell_type": "code",
   "execution_count": 53,
   "metadata": {},
   "outputs": [],
   "source": [
    "#klasa kolejki z wykładu\n",
    "class Empty(Exception):\n",
    "    pass\n",
    "class Queue:\n",
    "    DEFAULT_CAPACITY = 10\n",
    "    \n",
    "    def __init__(self):\n",
    "        self._data = [None] * Queue.DEFAULT_CAPACITY\n",
    "        self._size = 0\n",
    "        self._front = 0\n",
    "    \n",
    "    def __len__(self):\n",
    "        return self._size\n",
    "    \n",
    "    def __str__(self):\n",
    "        return str(self._data) + f\" ,{self.first()}\"\n",
    "\n",
    "    def is_empty(self):\n",
    "        return self._size == 0\n",
    "    \n",
    "    def first(self):\n",
    "        if self.is_empty():\n",
    "            raise Empty('Queue is empty')\n",
    "        return self._data[self._front]\n",
    "\n",
    "    def dequeue(self):\n",
    "        if self.is_empty():\n",
    "            raise Empty(\"Queue is empty\")\n",
    "        value = self._data[self._front]\n",
    "        self._data[self._front] = None\n",
    "        self._front = (self._front + 1) % len(self._data)\n",
    "        self._size -= 1\n",
    "        if self._size <= round(len(self._data)/4):\n",
    "            self.resize(round(len(self._data)/2))\n",
    "        return value\n",
    "\n",
    "    def enqueue(self, e):\n",
    "        if self._size == len(self._data):\n",
    "            self.resize(2*len(self._data))\n",
    "        avail = (self._front + self._size) % len(self._data)\n",
    "        self._data[avail] = e\n",
    "        self._size += 1\n",
    "\n",
    "    def resize(self,cap):\n",
    "        old = self._data\n",
    "        self._data = [None]*cap\n",
    "        walk = self._front\n",
    "        for k in range(self._size):\n",
    "            self._data[k] = old[walk]\n",
    "            walk = (1 + walk) % len(old)\n",
    "        self._front = 0\n",
    "        \n"
   ]
  },
  {
   "cell_type": "code",
   "execution_count": null,
   "metadata": {},
   "outputs": [],
   "source": [
    "queue = Queue()\n",
    "queue.enqueue(1)\n",
    "queue.enqueue(1)\n",
    "queue.enqueue(1)\n",
    "queue.enqueue(1)\n",
    "queue.enqueue(1)\n",
    "queue.enqueue(1)\n",
    "queue.enqueue(1)\n",
    "queue.enqueue(1)\n",
    "queue.enqueue(1)\n",
    "queue.enqueue(1)\n",
    "queue.enqueue(1)\n",
    "queue.dequeue()\n",
    "queue.dequeue()\n",
    "queue.dequeue()\n",
    "queue.dequeue()\n",
    "queue.dequeue()\n",
    "queue.dequeue()\n",
    "queue.dequeue()\n",
    "\n",
    "\n",
    "print(queue._size)\n",
    "print(queue)"
   ]
  },
  {
   "cell_type": "markdown",
   "metadata": {},
   "source": [
    "# Deklaracja stosu do zadań 7, 8, 10"
   ]
  },
  {
   "cell_type": "code",
   "execution_count": 39,
   "metadata": {},
   "outputs": [],
   "source": [
    "class Stack():\n",
    "    def __init__(self):\n",
    "        self._data = []     #nowy pusty stos\n",
    "\n",
    "    def __len__(self):\n",
    "        return len(self._data)\n",
    "    \n",
    "    def is_empty(self):\n",
    "        return len(self._data) == 0\n",
    "    \n",
    "    def push(self, e):\n",
    "        self._data.append(e)\n",
    "\n",
    "    def top(self):\n",
    "        if self.is_empty():\n",
    "            raise Empty('Stack is empty')\n",
    "        return self._data[-1]\n",
    "    def pop(self):\n",
    "        if self.is_empty():\n",
    "            raise Empty('Stack is empty')\n",
    "        return self._data.pop()"
   ]
  },
  {
   "cell_type": "markdown",
   "metadata": {},
   "source": [
    "# Zadanie 7"
   ]
  },
  {
   "cell_type": "code",
   "execution_count": null,
   "metadata": {},
   "outputs": [],
   "source": [
    "#czyszczenie html\n",
    "#komentarze \n",
    "#znaczniki pojedyńcze\n",
    "#deklaracje"
   ]
  },
  {
   "cell_type": "code",
   "execution_count": 59,
   "metadata": {},
   "outputs": [],
   "source": [
    "def html_check(txt):\n",
    "\n",
    "    #regexy\n",
    "    comments =  \"<!--.*?-->\"\n",
    "    declarations = \"<!.*?>\"\n",
    "    html_tag = \"<.*?>\"\n",
    "\n",
    "    #tablica samozamykających się znaczników\n",
    "    self_closing = [\"area\",\"base\",\"br\",\"col\",\"embed\",\"hr\",\"img\",\"link\",\"meta\",\"param\",\"source\",\"track\",\"wbr\",\"command\",\"keygen\",\"menuitem\",\"frame\"]\n",
    "\n",
    "    txt = re.sub(comments,\"\",txt)               #usuwa komentarze\n",
    "    txt = re.sub(declarations,\"\",txt)           #usuwa deklaracje\n",
    "\n",
    "    result = re.findall(html_tag,txt)\n",
    "\n",
    "    #wycinamy tylko nazwę samego znacznika, bez znaków <>, bez atrybutów, znaków białych i tym podobnych\n",
    "    tags=[]\n",
    "    for el in result:\n",
    "        splited = el.split(\" \")\n",
    "        if len(splited) > 1:\n",
    "            tags.append(el[1:len(splited[0])].lower())      #wybiera tylko znaki znacznika do pierwszej spacji\n",
    "            #print(el[1:len(splited[0])])  \n",
    "        else:\n",
    "            tags.append(el[1:-1].lower())                   \n",
    "            #print(el[1:-1]) \n",
    "\n",
    "\n",
    "    tag_stack = Stack()\n",
    "    unclosed = []\n",
    "\n",
    "    #wykonujemy dla każdego znalezionego znacznika\n",
    "    while len(tags):\n",
    "        if tags[0] in self_closing:             #pomijamy samozamykające się \n",
    "            tags.pop(0)\n",
    "            continue\n",
    "        if (len(tag_stack) > 0) and tags[0][0] == \"/\":      #dla zamykających sprawdzamy górę stosu czy pasują\n",
    "            if (tag_stack.top() != tags[0][1:]):\n",
    "                unclosed.append(tag_stack.pop())\n",
    "            else:\n",
    "                tag_stack.pop()\n",
    "                tags.pop(0)\n",
    "        else:                                               #wszystkie otwierające dodajemy\n",
    "            tag_stack.push(tags.pop(0))\n",
    "\n",
    "    #obsługa wyniku\n",
    "\n",
    "    if len(unclosed) != 0 :\n",
    "        print(\"Niedomknięte znaczniki:\")\n",
    "        for el in unclosed:\n",
    "            print(el)\n",
    "        return(0)\n",
    "    else:\n",
    "        print(\"Składnia poprawna\")\n",
    "        return(1)\n",
    "\n",
    "\n",
    "\n",
    "\n"
   ]
  },
  {
   "cell_type": "code",
   "execution_count": 64,
   "metadata": {},
   "outputs": [
    {
     "name": "stdout",
     "output_type": "stream",
     "text": [
      "Niedomknięte znaczniki:\n",
      "table\n"
     ]
    },
    {
     "data": {
      "text/plain": [
       "0"
      ]
     },
     "execution_count": 64,
     "metadata": {},
     "output_type": "execute_result"
    }
   ],
   "source": [
    "file = open(\"../assets/HTML_sample3.txt\",\"r\")\n",
    "txt = file.read()\n",
    "html_check(txt)\n",
    "\n"
   ]
  },
  {
   "cell_type": "markdown",
   "metadata": {},
   "source": [
    "# Zadanie 8"
   ]
  },
  {
   "cell_type": "code",
   "execution_count": 78,
   "metadata": {},
   "outputs": [],
   "source": [
    "\n",
    "# kod pomocniczy ze strony https://www.geeksforgeeks.org/generate-all-the-permutation-of-a-list-in-python/\n",
    "# Python function to print permutations of a given list\n",
    "def permutation(lst):\n",
    " \n",
    "    # If lst is empty then there are no permutations\n",
    "    if len(lst) == 0:\n",
    "        return []\n",
    " \n",
    "    # If there is only one element in lst then, only\n",
    "    # one permutation is possible\n",
    "    if len(lst) == 1:\n",
    "        return [lst]\n",
    " \n",
    "    # Find the permutations for lst if there are\n",
    "    # more than 1 characters\n",
    " \n",
    "    l = [] # empty list that will store current permutation\n",
    " \n",
    "    # Iterate the input(lst) and calculate the permutation\n",
    "    for i in range(len(lst)):\n",
    "       m = lst[i]\n",
    " \n",
    "       # Extract lst[i] or m from the list.  remLst is\n",
    "       # remaining list\n",
    "       remLst = lst[:i] + lst[i+1:]\n",
    " \n",
    "       # Generating all permutations where m is first\n",
    "       # element\n",
    "       for p in permutation(remLst):\n",
    "           l.append([m] + p)\n",
    "    return l\n",
    "\n",
    "    "
   ]
  },
  {
   "cell_type": "code",
   "execution_count": 79,
   "metadata": {},
   "outputs": [
    {
     "name": "stdout",
     "output_type": "stream",
     "text": [
      "BC\n"
     ]
    },
    {
     "ename": "IndexError",
     "evalue": "list index out of range",
     "output_type": "error",
     "traceback": [
      "\u001b[1;31m---------------------------------------------------------------------------\u001b[0m",
      "\u001b[1;31mIndexError\u001b[0m                                Traceback (most recent call last)",
      "\u001b[1;32mc:\\Users\\Marek\\Desktop\\wszystko\\STUDIA\\SEMESTR_3\\algorytmy\\lista3\\lista3.ipynb Cell 25\u001b[0m line \u001b[0;36m1\n\u001b[1;32m----> <a href='vscode-notebook-cell:/c%3A/Users/Marek/Desktop/wszystko/STUDIA/SEMESTR_3/algorytmy/lista3/lista3.ipynb#X34sZmlsZQ%3D%3D?line=0'>1</a>\u001b[0m permutation([\u001b[39m\"\u001b[39;49m\u001b[39mA\u001b[39;49m\u001b[39m\"\u001b[39;49m,\u001b[39m\"\u001b[39;49m\u001b[39mB\u001b[39;49m\u001b[39m\"\u001b[39;49m,\u001b[39m\"\u001b[39;49m\u001b[39mC\u001b[39;49m\u001b[39m\"\u001b[39;49m])\n",
      "\u001b[1;32mc:\\Users\\Marek\\Desktop\\wszystko\\STUDIA\\SEMESTR_3\\algorytmy\\lista3\\lista3.ipynb Cell 25\u001b[0m line \u001b[0;36m6\n\u001b[0;32m      <a href='vscode-notebook-cell:/c%3A/Users/Marek/Desktop/wszystko/STUDIA/SEMESTR_3/algorytmy/lista3/lista3.ipynb#X34sZmlsZQ%3D%3D?line=3'>4</a>\u001b[0m         x \u001b[39m=\u001b[39m seq[i]\n\u001b[0;32m      <a href='vscode-notebook-cell:/c%3A/Users/Marek/Desktop/wszystko/STUDIA/SEMESTR_3/algorytmy/lista3/lista3.ipynb#X34sZmlsZQ%3D%3D?line=4'>5</a>\u001b[0m         seq\u001b[39m.\u001b[39mremove(seq[i])\n\u001b[1;32m----> <a href='vscode-notebook-cell:/c%3A/Users/Marek/Desktop/wszystko/STUDIA/SEMESTR_3/algorytmy/lista3/lista3.ipynb#X34sZmlsZQ%3D%3D?line=5'>6</a>\u001b[0m         \u001b[39mprint\u001b[39m(x \u001b[39m+\u001b[39m permutation(seq))\n\u001b[0;32m      <a href='vscode-notebook-cell:/c%3A/Users/Marek/Desktop/wszystko/STUDIA/SEMESTR_3/algorytmy/lista3/lista3.ipynb#X34sZmlsZQ%3D%3D?line=6'>7</a>\u001b[0m \u001b[39melse\u001b[39;00m:   \n\u001b[0;32m      <a href='vscode-notebook-cell:/c%3A/Users/Marek/Desktop/wszystko/STUDIA/SEMESTR_3/algorytmy/lista3/lista3.ipynb#X34sZmlsZQ%3D%3D?line=7'>8</a>\u001b[0m     \u001b[39mreturn\u001b[39;00m seq[\u001b[39m0\u001b[39m]\n",
      "\u001b[1;32mc:\\Users\\Marek\\Desktop\\wszystko\\STUDIA\\SEMESTR_3\\algorytmy\\lista3\\lista3.ipynb Cell 25\u001b[0m line \u001b[0;36m4\n\u001b[0;32m      <a href='vscode-notebook-cell:/c%3A/Users/Marek/Desktop/wszystko/STUDIA/SEMESTR_3/algorytmy/lista3/lista3.ipynb#X34sZmlsZQ%3D%3D?line=1'>2</a>\u001b[0m \u001b[39mif\u001b[39;00m \u001b[39mlen\u001b[39m(seq) \u001b[39m>\u001b[39m \u001b[39m1\u001b[39m:\n\u001b[0;32m      <a href='vscode-notebook-cell:/c%3A/Users/Marek/Desktop/wszystko/STUDIA/SEMESTR_3/algorytmy/lista3/lista3.ipynb#X34sZmlsZQ%3D%3D?line=2'>3</a>\u001b[0m     \u001b[39mfor\u001b[39;00m i \u001b[39min\u001b[39;00m \u001b[39mrange\u001b[39m(\u001b[39mlen\u001b[39m(seq)):\n\u001b[1;32m----> <a href='vscode-notebook-cell:/c%3A/Users/Marek/Desktop/wszystko/STUDIA/SEMESTR_3/algorytmy/lista3/lista3.ipynb#X34sZmlsZQ%3D%3D?line=3'>4</a>\u001b[0m         x \u001b[39m=\u001b[39m seq[i]\n\u001b[0;32m      <a href='vscode-notebook-cell:/c%3A/Users/Marek/Desktop/wszystko/STUDIA/SEMESTR_3/algorytmy/lista3/lista3.ipynb#X34sZmlsZQ%3D%3D?line=4'>5</a>\u001b[0m         seq\u001b[39m.\u001b[39mremove(seq[i])\n\u001b[0;32m      <a href='vscode-notebook-cell:/c%3A/Users/Marek/Desktop/wszystko/STUDIA/SEMESTR_3/algorytmy/lista3/lista3.ipynb#X34sZmlsZQ%3D%3D?line=5'>6</a>\u001b[0m         \u001b[39mprint\u001b[39m(x \u001b[39m+\u001b[39m permutation(seq))\n",
      "\u001b[1;31mIndexError\u001b[0m: list index out of range"
     ]
    }
   ],
   "source": [
    "permutation([\"A\",\"B\",\"C\"])\n"
   ]
  },
  {
   "cell_type": "markdown",
   "metadata": {},
   "source": [
    "# To do list:\n",
    "- dokumentacja"
   ]
  }
 ],
 "metadata": {
  "kernelspec": {
   "display_name": "Python 3",
   "language": "python",
   "name": "python3"
  },
  "language_info": {
   "codemirror_mode": {
    "name": "ipython",
    "version": 3
   },
   "file_extension": ".py",
   "mimetype": "text/x-python",
   "name": "python",
   "nbconvert_exporter": "python",
   "pygments_lexer": "ipython3",
   "version": "3.8.6"
  }
 },
 "nbformat": 4,
 "nbformat_minor": 2
}
