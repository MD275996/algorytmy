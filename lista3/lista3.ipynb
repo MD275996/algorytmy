{
 "cells": [
  {
   "cell_type": "code",
   "execution_count": 129,
   "metadata": {},
   "outputs": [],
   "source": [
    "import ctypes #tablice niskopoziomowe\n",
    "import random\n",
    "from timeit import default_timer as timer\n",
    "import re\n",
    "from matplotlib import pyplot as plt"
   ]
  },
  {
   "cell_type": "markdown",
   "metadata": {},
   "source": [
    "# Zadanie 1"
   ]
  },
  {
   "cell_type": "code",
   "execution_count": 37,
   "metadata": {},
   "outputs": [],
   "source": [
    "#zaimplementowanie klasy dynamic array z wykładu\n",
    "\n",
    "class DynamicArray:\n",
    "\n",
    "    def __init__(self):\n",
    "        self._n = 0                                     #liczba elementów\n",
    "        self._capacity = 1                              #rozmiar tablicy\n",
    "        self._A = self._make_array(self._capacity)      #właściwa tablica\n",
    "    \n",
    "    def __len__(self):\n",
    "        return self._n\n",
    "    \n",
    "    def __getitem__(self, k):\n",
    "        if not 0 <= k < self._n:\n",
    "            raise IndexError(\"invalid index\")\n",
    "        return self._A[k]\n",
    "    \n",
    "    def __str__(self):\n",
    "        #tworzy stringa sklejając wyraz po wyrazie tablicy\n",
    "\n",
    "        temp = \"|\"\n",
    "        for i in range(0,self._n):\n",
    "            temp += f\"{self._A[i]}|\"\n",
    "        for i in range(0,self._capacity-self._n):\n",
    "            temp += \" |\"\n",
    "        return(temp)\n",
    "    \n",
    "    def append(self,obj):\n",
    "        if self._n == self._capacity:\n",
    "            self.resize(2*self._capacity)\n",
    "        self._A[self._n] = obj\n",
    "        self._n += 1\n",
    "\n",
    "    def resize(self,c):\n",
    "        B = self._make_array(c)\n",
    "        for k in range(self._n):\n",
    "            B[k] = self._A[k]\n",
    "        self._A = B\n",
    "        self._capacity = c\n",
    "\n",
    "    def _make_array(self,c):\n",
    "        return(c*ctypes.py_object)()\n",
    "    \n",
    "    #metody z zadania 1\n",
    "    def insert(self, k, value):\n",
    "        if not 0 < k <= self._n:\n",
    "            raise IndexError(\"invalid index\")\n",
    "        else:       \n",
    "            if self._n == self._capacity:       #sprawdza czy jest miejsce\n",
    "                self.resize(2*self._capacity)    \n",
    "            for i in range(0,self._n - k + 1):        #przesuwa o jeden dalej\n",
    "                self._A[self._n-i] = self._A[self._n - i - 1] \n",
    "        self._A[k-1] = value                  #dodaje wartość\n",
    "        self._n += 1                        #zwiększa licznik\n",
    "\n",
    "    def remove(self, value):    #znajdzie i usunie pierwsze wystąpienie value, dziurę zaklei\n",
    "        k = 0\n",
    "        for i in range(0,self._n):\n",
    "            if self._A[i] == value:\n",
    "                k = i\n",
    "                break\n",
    "        for i in range(k,self._n-1):\n",
    "            self._A[i] = self._A[i+1]\n",
    "        self._n -= 1\n",
    "        self.resize(self._capacity)\n",
    "    \n",
    "    def expand(self,seq):\n",
    "        if self._capacity < self._n + len(seq):\n",
    "            self.resize(self._n + len(seq))\n",
    "        for i in range(0,len(seq)):\n",
    "            self._A[self._n + i] = seq[i]\n",
    "        self._n = self._n + len(seq)\n"
   ]
  },
  {
   "cell_type": "code",
   "execution_count": 38,
   "metadata": {},
   "outputs": [
    {
     "name": "stdout",
     "output_type": "stream",
     "text": [
      "|1|2|3|4|5|10|11|12|13|14|15|\n"
     ]
    }
   ],
   "source": [
    "dynamic = DynamicArray()\n",
    "dynamic.append(1) \n",
    "dynamic.append(2) \n",
    "dynamic.append(3)\n",
    "dynamic.append(4)\n",
    "dynamic.append(5)\n",
    "dynamic.expand([10,11,12,13,14,15])\n",
    "print(dynamic)\n"
   ]
  },
  {
   "cell_type": "markdown",
   "metadata": {},
   "source": [
    "# Zadanie 2"
   ]
  },
  {
   "cell_type": "code",
   "execution_count": 39,
   "metadata": {},
   "outputs": [],
   "source": [
    "def measure_time_pop(seq,n):\n",
    "    start = timer()\n",
    "    #t = time.process_time()\n",
    "    seq.pop(n)\n",
    "    #t2 = time.process_time()\n",
    "    end = timer()\n",
    "    return (end-start)"
   ]
  },
  {
   "cell_type": "code",
   "execution_count": 40,
   "metadata": {},
   "outputs": [
    {
     "data": {
      "text/plain": [
       "Text(0, 0.5, 'times')"
      ]
     },
     "execution_count": 40,
     "metadata": {},
     "output_type": "execute_result"
    },
    {
     "data": {
      "image/png": "[encoded data removed]",
      "text/plain": [
       "<Figure size 640x480 with 1 Axes>"
      ]
     },
     "metadata": {},
     "output_type": "display_data"
    }
   ],
   "source": [
    "seq = [1,2,3,4,5,6,7,8,9,8,7,6,5,4,3,2,1]\n",
    "measurements = []\n",
    "for idx in range(0,len(seq)):       #dla jakiego indexu \n",
    "    mean = 0\n",
    "    for i in range(0,10):           #ilość pomiarów do średniej\n",
    "        mean += measure_time_pop(seq,idx)\n",
    "        seq = [1,2,3,4,5,6,7,8,9,8,7,6,5,4,3,2,1]\n",
    "    mean = mean / 10\n",
    "    measurements.append(mean)\n",
    "\n",
    "\n",
    "fig, ax = plt.subplots()\n",
    "ax.plot(range(0,len(seq)),measurements)\n",
    "ax.set_xlabel(\"indexes\")\n",
    "ax.set_ylabel(\"times\")\n",
    "\n"
   ]
  },
  {
   "cell_type": "markdown",
   "metadata": {},
   "source": [
    "są praktycznie takie same"
   ]
  },
  {
   "cell_type": "markdown",
   "metadata": {},
   "source": [
    "# Zadanie 3"
   ]
  },
  {
   "cell_type": "code",
   "execution_count": 41,
   "metadata": {},
   "outputs": [],
   "source": [
    "def r2summ(seq):\n",
    "    if type(seq) == type([]):\n",
    "        sum=0\n",
    "        for el in seq:\n",
    "            if type(el) == type([]):\n",
    "                summ = 0\n",
    "                for ell in el:\n",
    "                    summ += ell\n",
    "                sum += summ\n",
    "            else:\n",
    "                sum = \"zły rodzaj tablicy\"\n",
    "                break\n",
    "    else:\n",
    "        sum = \"zły rodzaj tablicy\"\n",
    "\n",
    "    return sum        \n"
   ]
  },
  {
   "cell_type": "code",
   "execution_count": 42,
   "metadata": {},
   "outputs": [
    {
     "name": "stdout",
     "output_type": "stream",
     "text": [
      "<class 'list'>\n",
      "-19\n"
     ]
    }
   ],
   "source": [
    "tabr2 = [[random.randint(-10,10) for i in range(0,2)] for i in range(0,10)]\n",
    "print(r2summ(tabr2))"
   ]
  },
  {
   "cell_type": "markdown",
   "metadata": {},
   "source": [
    "# Zadanie 4"
   ]
  },
  {
   "cell_type": "code",
   "execution_count": 75,
   "metadata": {},
   "outputs": [
    {
     "data": {
      "text/plain": [
       "<matplotlib.legend.Legend at 0x5715718>"
      ]
     },
     "execution_count": 75,
     "metadata": {},
     "output_type": "execute_result"
    },
    {
     "data": {
      "image/png": "[encoded data removed]",
      "text/plain": [
       "<Figure size 640x480 with 1 Axes>"
      ]
     },
     "metadata": {},
     "output_type": "display_data"
    }
   ],
   "source": [
    "\n",
    "measurements1 = []\n",
    "measurements2 = []\n",
    "\n",
    "for i in range(1,1000,100):   #ilość dodawanych elementów\n",
    "    \n",
    "    measure_time1 = 0\n",
    "    measure_time2 = 0\n",
    "    \n",
    "    for j in range(0,10):   #ilość pomiarów\n",
    "        dynamic = DynamicArray()\n",
    "        stop = timer()\n",
    "        dynamic.expand(list(range(0,i)))\n",
    "        end = timer()\n",
    "        measure_time1 += (end - stop)\n",
    "    \n",
    "    for j in range(0,10):   #ilość pomiarów\n",
    "        dynamic = DynamicArray()\n",
    "        stop = timer()\n",
    "        for i in range(0,i):\n",
    "            dynamic.append(i)\n",
    "        end = timer()\n",
    "        measure_time2 += (end - stop)\n",
    "   \n",
    "   \n",
    "    measurements1.append(measure_time1/10)\n",
    "    measurements2.append(measure_time2/10)\n",
    "\n",
    "\n",
    "fig, ax = plt.subplots()\n",
    "ax.plot(range(1,1000,100),measurements1, label = \"expand\")\n",
    "ax.plot(range(1,1000,100),measurements2, label = \"append\" )\n",
    "ax.set_xlabel(\"indexes\")\n",
    "ax.set_ylabel(\"times\")\n",
    "ax.legend()\n",
    "    "
   ]
  },
  {
   "cell_type": "markdown",
   "metadata": {},
   "source": [
    "# Zadanie 5"
   ]
  },
  {
   "cell_type": "code",
   "execution_count": 122,
   "metadata": {},
   "outputs": [],
   "source": [
    "#klasa kolejki z wykładu\n",
    "class Empty(Exception):\n",
    "    pass\n",
    "class Queue:\n",
    "    DEFAULT_CAPACITY = 10\n",
    "    \n",
    "    def __init__(self):\n",
    "        self._data = [None] * Queue.DEFAULT_CAPACITY\n",
    "        self._size = 0\n",
    "        self._front = 0\n",
    "    \n",
    "    def __len__(self):\n",
    "        return self._size\n",
    "    \n",
    "    def __str__(self):\n",
    "        return str(self._data) + f\" ,{self.first()}\"\n",
    "\n",
    "    def is_empty(self):\n",
    "        return self._size == 0\n",
    "    \n",
    "    def first(self):\n",
    "        if self.is_empty():\n",
    "            raise Empty('Queue is empty')\n",
    "        return self._data[self._front]\n",
    "\n",
    "    def dequeue(self):\n",
    "        if self.is_empty():\n",
    "            raise Empty(\"Queue is empty\")\n",
    "        value = self._data[self._front]\n",
    "        self._data[self._front] = None\n",
    "        self._front = (self._front + 1) % len(self._data)\n",
    "        self._size -= 1\n",
    "        if self._size <= round(len(self._data)/4):\n",
    "            self.resize(round(len(self._data)/2))\n",
    "        return value\n",
    "\n",
    "    def enqueue(self, e):\n",
    "        if self._size == len(self._data):\n",
    "            self.resize(2*len(self._data))\n",
    "        avail = (self._front + self._size) % len(self._data)\n",
    "        self._data[avail] = e\n",
    "        self._size += 1\n",
    "\n",
    "    def resize(self,cap):\n",
    "        old = self._data\n",
    "        self._data = [None]*cap\n",
    "        walk = self._front\n",
    "        for k in range(self._size):\n",
    "            self._data[k] = old[walk]\n",
    "            walk = (1 + walk) % len(old)\n",
    "        self._front = 0\n",
    "        \n"
   ]
  },
  {
   "cell_type": "code",
   "execution_count": 128,
   "metadata": {},
   "outputs": [
    {
     "name": "stdout",
     "output_type": "stream",
     "text": [
      "4\n",
      "[None, 1, 1, 1, 1, None, None, None, None, None] ,1\n"
     ]
    }
   ],
   "source": [
    "queue = Queue()\n",
    "queue.enqueue(1)\n",
    "queue.enqueue(1)\n",
    "queue.enqueue(1)\n",
    "queue.enqueue(1)\n",
    "queue.enqueue(1)\n",
    "queue.enqueue(1)\n",
    "queue.enqueue(1)\n",
    "queue.enqueue(1)\n",
    "queue.enqueue(1)\n",
    "queue.enqueue(1)\n",
    "queue.enqueue(1)\n",
    "queue.dequeue()\n",
    "queue.dequeue()\n",
    "queue.dequeue()\n",
    "queue.dequeue()\n",
    "queue.dequeue()\n",
    "queue.dequeue()\n",
    "queue.dequeue()\n",
    "\n",
    "\n",
    "print(queue._size)\n",
    "print(queue)"
   ]
  },
  {
   "cell_type": "markdown",
   "metadata": {},
   "source": [
    "# Deklaracja stosu do zadań 7, 8, 10"
   ]
  },
  {
   "cell_type": "code",
   "execution_count": null,
   "metadata": {},
   "outputs": [],
   "source": [
    "class Stack():\n",
    "    def __init__(self):\n",
    "        self._data = []     #nowy pusty stos\n",
    "\n",
    "    def __len__(self):\n",
    "        return len(self._data)\n",
    "    \n",
    "    def is_empty(self):\n",
    "        return len(self._data) == 0\n",
    "    \n",
    "    def push(self, e):\n",
    "        self._data.append(e)\n",
    "\n",
    "    def top(self):\n",
    "        if self.is_empty():\n",
    "            raise Empty('Stack is empty')\n",
    "        return self._data[-1]\n",
    "    def pop(self):\n",
    "        if self.is_empty():\n",
    "            raise Empty('Stack is empty')\n",
    "        return self._data.pop()"
   ]
  },
  {
   "cell_type": "markdown",
   "metadata": {},
   "source": [
    "# Zadanie 7"
   ]
  },
  {
   "cell_type": "code",
   "execution_count": 139,
   "metadata": {},
   "outputs": [
    {
     "name": "stdout",
     "output_type": "stream",
     "text": [
      "<!doctype html>\n",
      "<html  >\n",
      "<head           >\n",
      "<title>\n",
      "</title>\n",
      "<!-- <script id=\"MathJax-script\" async src=\"https://cdn.jsdelivr.net/npm/mathjax@3/es5/tex-mml-chtml.js\">\n",
      "</script>\n",
      "<!-- <script>\n",
      "</script>\n",
      "<script src=\"https://ajax.googleapis.com/ajax/libs/jquery/3.6.4/jquery.min.js <view-source:https://ajax.googleapis.com/ajax/libs/jquery/3.6.4/jquery.min.js>\n",
      "</script>\n",
      "<link rel=\"stylesheet\" href=\"./assets/style.css <view-source:http://prac.im.pwr.edu.pl/~miskiewicz/assets/style.css>\n",
      "<meta name=\"viewport\" content=\"width=device-width, initial-scale=1.0\">\n",
      "<meta charset=\"UTF-8\">\n",
      "</head>\n",
      "<body>\n",
      "<div class=\"page\" id=\"page\">\n",
      "<div id=\"left-column\">\n",
      "<div id=\"header-content\" style=\"display: grid;\">\n",
      "<div id=\"header-text-container\">\n",
      "<h1 id=\"name\">\n",
      "</h1>\n",
      "<p lang=\"pl\" style=\"font-style: italic;\" class=\"University\">\n",
      "<br>\n",
      "</p>\n",
      "<p lang=\"en\" style=\"font-style: italic;\" class=\"University\">\n",
      "<br>\n",
      "</p>\n",
      "</div>\n",
      "<div id=\"nav-column\">\n",
      "<button id=\"switch-lang\" class=\"button nav-child\">\n",
      "<span lang=\"pl\">\n",
      "</span>\n",
      "<span lang=\"en\">\n",
      "</span>\n",
      "</button>\n",
      "<button id=\"switch-theme\" class=\"button nav-child\" onclick=\"change_theme()\">\n",
      "<span lang=\"light\" id=\"light\">\n",
      "<img src=\"./svgs/moon-solid.svg <view-source:http://prac.im.pwr.edu.pl/~miskiewicz/svgs/moon-solid.svg>\n",
      "</span>\n",
      "<span lang=\"dark\"  id=\"dark\" >\n",
      "<img src=\"./svgs/sun-solid.svg <view-source:http://prac.im.pwr.edu.pl/~miskiewicz/svgs/sun-solid.svg>\n",
      "</span>\n",
      "</button>\n",
      "</div>\n",
      "</div>\n",
      "<div class=\"content\">\n",
      "<hr>\n",
      "<h3 lang=\"pl\">\n",
      "</h3>\n",
      "<h3 lang=\"en\">\n",
      "</h3>\n",
      "<p lang=\"pl\">\n",
      "<br>\n",
      "<br>\n",
      "</p>\n",
      "<p lang=\"en\">\n",
      "<BR>\n",
      "<br>\n",
      "</p>\n",
      "<p lang=\"pl\">\n",
      "</p>\n",
      "<p lang=\"en\">\n",
      "</p>\n",
      "<p style=\"color: rgb(93, 0, 255)\">\n",
      "</p>\n",
      "<hr>\n",
      "<h3 lang=\"pl\">\n",
      "</h3>\n",
      "<h3 lang=\"en\">\n",
      "</h3>\n",
      "<table>\n",
      "<tr>\n",
      "<td>\n",
      "</td>\n",
      "<td>\n",
      "</td>\n",
      "</tr>\n",
      "<tr>\n",
      "<td>\n",
      "<b>\n",
      "</b>\n",
      "</td>\n",
      "<td>\n",
      "</td>\n",
      "</tr>\n",
      "</table>\n",
      "</div>\n",
      "<footer id=\"footer\">\n",
      "<hr>\n",
      "</footer>\n",
      "</div>\n",
      "<div id=\"right-column\">\n",
      "<canvas id=\"canvas\">\n",
      "</canvas>\n",
      "</div>\n",
      "</div>\n",
      "<!-- scripts -->\n",
      "<script src=\"scripts/lang_switch.js <view-source:http://prac.im.pwr.edu.pl/~miskiewicz/scripts/lang_switch.js>\n",
      "</script>\n",
      "<script src=\"scripts/theme_switch.js <view-source:http://prac.im.pwr.edu.pl/~miskiewicz/scripts/theme_switch.js>\n",
      "</script>\n",
      "<script src=\"scripts/canvas_action.js <view-source:http://prac.im.pwr.edu.pl/~miskiewicz/scripts/canvas_action.js>\n",
      "</script>\n",
      "</body>\n",
      "</html>\n"
     ]
    }
   ],
   "source": [
    "reg =  \"<.*?>\"\n",
    "file = open(\"../assets/HTML_sample1.txt\",\"r\")\n",
    "txt = file.read()\n",
    "result = re.findall(reg,txt)\n",
    "for el in result:\n",
    "    print(el)"
   ]
  },
  {
   "cell_type": "code",
   "execution_count": null,
   "metadata": {},
   "outputs": [],
   "source": [
    "def html_check():\n",
    "    boolean = True\n",
    "    return boolean"
   ]
  },
  {
   "cell_type": "markdown",
   "metadata": {},
   "source": [
    "# To do list:\n",
    "- dokumentacja"
   ]
  }
 ],
 "metadata": {
  "kernelspec": {
   "display_name": "Python 3",
   "language": "python",
   "name": "python3"
  },
  "language_info": {
   "codemirror_mode": {
    "name": "ipython",
    "version": 3
   },
   "file_extension": ".py",
   "mimetype": "text/x-python",
   "name": "python",
   "nbconvert_exporter": "python",
   "pygments_lexer": "ipython3",
   "version": "3.8.6"
  }
 },
 "nbformat": 4,
 "nbformat_minor": 2
}
