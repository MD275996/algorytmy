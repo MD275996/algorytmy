{
 "cells": [
  {
   "cell_type": "code",
   "execution_count": 191,
   "metadata": {},
   "outputs": [],
   "source": [
    "import ctypes #tablice niskopoziomowe\n",
    "import random\n",
    "from timeit import default_timer as timer\n",
    "import re\n",
    "from matplotlib import pyplot as plt"
   ]
  },
  {
   "cell_type": "markdown",
   "metadata": {},
   "source": [
    "# Zadanie 1"
   ]
  },
  {
   "cell_type": "code",
   "execution_count": 192,
   "metadata": {},
   "outputs": [],
   "source": [
    "#zaimplementowanie klasy dynamic array z wykładu\n",
    "\n",
    "class DynamicArray:\n",
    "\n",
    "    def __init__(self):\n",
    "        self._n = 0                                     #liczba elementów\n",
    "        self._capacity = 1                              #rozmiar tablicy\n",
    "        self._A = self._make_array(self._capacity)      #właściwa tablica\n",
    "    \n",
    "    def __len__(self):\n",
    "        return self._n\n",
    "    \n",
    "    def __getitem__(self, k):\n",
    "        if not 0 <= k < self._n:\n",
    "            raise IndexError(\"invalid index\")\n",
    "        return self._A[k]\n",
    "    \n",
    "    def __str__(self):\n",
    "        #tworzy stringa sklejając wyraz po wyrazie tablicy\n",
    "\n",
    "        temp = \"|\"\n",
    "        for i in range(0,self._n):\n",
    "            temp += f\"{self._A[i]}|\"\n",
    "        for i in range(0,self._capacity-self._n):\n",
    "            temp += \" |\"\n",
    "        return(temp)\n",
    "    \n",
    "    def append(self,obj):\n",
    "        if self._n == self._capacity:\n",
    "            self.resize(2*self._capacity)\n",
    "        self._A[self._n] = obj\n",
    "        self._n += 1\n",
    "\n",
    "    def resize(self,c):\n",
    "        B = self._make_array(c)\n",
    "        for k in range(self._n):\n",
    "            B[k] = self._A[k]\n",
    "        self._A = B\n",
    "        self._capacity = c\n",
    "\n",
    "    def _make_array(self,c):\n",
    "        return(c*ctypes.py_object)()\n",
    "    \n",
    "    #metody z zadania 1\n",
    "    def insert(self, k, value):\n",
    "        if not 0 < k <= self._n:\n",
    "            raise IndexError(\"invalid index\")\n",
    "        else:       \n",
    "            if self._n == self._capacity:       #sprawdza czy jest miejsce\n",
    "                self.resize(2*self._capacity)    \n",
    "            for i in range(0,self._n - k + 1):        #przesuwa o jeden dalej\n",
    "                self._A[self._n-i] = self._A[self._n - i - 1] \n",
    "        self._A[k-1] = value                  #dodaje wartość\n",
    "        self._n += 1                        #zwiększa licznik\n",
    "\n",
    "    def remove(self, value):    #znajdzie i usunie pierwsze wystąpienie value, dziurę zaklei\n",
    "        k = 0\n",
    "        #znajduje pierwsze wystąpienie value\n",
    "        for i in range(0,self._n):\n",
    "            if self._A[i] == value:\n",
    "                k = i\n",
    "                break\n",
    "        #przesuwa wartości o jeden w stronę value, by je usunąć\n",
    "        for i in range(k,self._n-1):\n",
    "            self._A[i] = self._A[i+1]\n",
    "        self._n -= 1\n",
    "        #robi resize by pozbyć się ostatniego zduplikowanego elementu\n",
    "        self.resize(self._capacity)\n",
    "    \n",
    "    def expand(self,seq):\n",
    "        #sprawdza czy jest miejsce\n",
    "        if self._capacity < self._n + len(seq):\n",
    "            self.resize(self._n + len(seq))\n",
    "        #wstawia\n",
    "        for i in range(0,len(seq)):\n",
    "            self._A[self._n + i] = seq[i]\n",
    "        self._n = self._n + len(seq)\n"
   ]
  },
  {
   "cell_type": "code",
   "execution_count": 193,
   "metadata": {},
   "outputs": [
    {
     "name": "stdout",
     "output_type": "stream",
     "text": [
      "|1|2|3|4|5|10|11|12|13|14|15|\n"
     ]
    }
   ],
   "source": [
    "dynamic = DynamicArray()\n",
    "dynamic.append(1) \n",
    "dynamic.append(2) \n",
    "dynamic.append(3)\n",
    "dynamic.append(4)\n",
    "dynamic.append(5)\n",
    "dynamic.expand([10,11,12,13,14,15])\n",
    "print(dynamic)\n"
   ]
  },
  {
   "cell_type": "markdown",
   "metadata": {},
   "source": [
    "# Zadanie 2"
   ]
  },
  {
   "cell_type": "code",
   "execution_count": 194,
   "metadata": {},
   "outputs": [],
   "source": [
    "def measure_time_pop(seq,n):\n",
    "    start = timer()\n",
    "    #t = time.process_time()\n",
    "    seq.pop(n)\n",
    "    #t2 = time.process_time()\n",
    "    end = timer()\n",
    "    return (end-start)"
   ]
  },
  {
   "cell_type": "code",
   "execution_count": 195,
   "metadata": {},
   "outputs": [
    {
     "data": {
      "text/plain": [
       "Text(0, 0.5, 'times')"
      ]
     },
     "execution_count": 195,
     "metadata": {},
     "output_type": "execute_result"
    },
    {
     "data": {
      "image/png": "[encoded data removed]",
      "text/plain": [
       "<Figure size 640x480 with 1 Axes>"
      ]
     },
     "metadata": {},
     "output_type": "display_data"
    }
   ],
   "source": [
    "seq = [i for i in range(0,1000000)]\n",
    "measurements = []\n",
    "for idx in range(0,len(seq),100000):       #dla jakiego indexu \n",
    "    mean = 0\n",
    "    for i in range(0,10):           #ilość pomiarów do średniej\n",
    "        mean += measure_time_pop(seq,idx)\n",
    "        seq = [i for i in range(0,1000000)]\n",
    "    mean = mean / 10\n",
    "    measurements.append(mean)\n",
    "\n",
    "\n",
    "fig, ax = plt.subplots()\n",
    "ax.scatter(range(0,len(seq),100000),measurements)\n",
    "ax.set_xlabel(\"indexes\")\n",
    "ax.set_ylabel(\"times\")\n",
    "\n"
   ]
  },
  {
   "cell_type": "markdown",
   "metadata": {},
   "source": [
    "czas liniowo maleje dla wyższych indeksów "
   ]
  },
  {
   "cell_type": "markdown",
   "metadata": {},
   "source": [
    "# Zadanie 3"
   ]
  },
  {
   "cell_type": "code",
   "execution_count": 196,
   "metadata": {},
   "outputs": [],
   "source": [
    "def r2summ(seq):\n",
    "    if type(seq) == type([]):\n",
    "        sum=0\n",
    "        for el in seq:\n",
    "            if type(el) == type([]):\n",
    "                summ = 0\n",
    "                for ell in el:\n",
    "                    summ += ell\n",
    "                sum += summ\n",
    "            else:\n",
    "                sum = \"zły rodzaj tablicy\"\n",
    "                break\n",
    "    else:\n",
    "        sum = \"zły rodzaj tablicy\"\n",
    "\n",
    "    return sum        \n"
   ]
  },
  {
   "cell_type": "code",
   "execution_count": 197,
   "metadata": {},
   "outputs": [
    {
     "name": "stdout",
     "output_type": "stream",
     "text": [
      "49\n"
     ]
    }
   ],
   "source": [
    "tabr2 = [[random.randint(-10,10) for i in range(0,2)] for i in range(0,10)]\n",
    "print(r2summ(tabr2))"
   ]
  },
  {
   "cell_type": "markdown",
   "metadata": {},
   "source": [
    "# Zadanie 4"
   ]
  },
  {
   "cell_type": "code",
   "execution_count": 198,
   "metadata": {},
   "outputs": [
    {
     "data": {
      "text/plain": [
       "<matplotlib.legend.Legend at 0xb22b7f0>"
      ]
     },
     "execution_count": 198,
     "metadata": {},
     "output_type": "execute_result"
    },
    {
     "data": {
      "image/png": "[encoded data removed]",
      "text/plain": [
       "<Figure size 640x480 with 1 Axes>"
      ]
     },
     "metadata": {},
     "output_type": "display_data"
    }
   ],
   "source": [
    "\n",
    "measurements1 = []\n",
    "measurements2 = []\n",
    "\n",
    "for i in range(1,1000,100):   #ilość dodawanych elementów\n",
    "    \n",
    "    measure_time1 = 0\n",
    "    measure_time2 = 0\n",
    "    \n",
    "    for j in range(0,10):   #ilość pomiarów\n",
    "        dynamic = DynamicArray()\n",
    "        stop = timer()\n",
    "        dynamic.expand(list(range(0,i)))\n",
    "        end = timer()\n",
    "        measure_time1 += (end - stop)\n",
    "    \n",
    "    for j in range(0,10):   #ilość pomiarów\n",
    "        dynamic = DynamicArray()\n",
    "        stop = timer()\n",
    "        for i in range(0,i):\n",
    "            dynamic.append(i)\n",
    "        end = timer()\n",
    "        measure_time2 += (end - stop)\n",
    "   \n",
    "   \n",
    "    measurements1.append(measure_time1/10)\n",
    "    measurements2.append(measure_time2/10)\n",
    "\n",
    "\n",
    "fig, ax = plt.subplots()\n",
    "ax.plot(range(1,1000,100),measurements1, label = \"expand\")\n",
    "ax.plot(range(1,1000,100),measurements2, label = \"append\" )\n",
    "ax.set_xlabel(\"indexes\")\n",
    "ax.set_ylabel(\"times\")\n",
    "ax.legend()\n",
    "    "
   ]
  },
  {
   "cell_type": "markdown",
   "metadata": {},
   "source": [
    "# Zadanie 5"
   ]
  },
  {
   "cell_type": "code",
   "execution_count": 199,
   "metadata": {},
   "outputs": [],
   "source": [
    "#klasa kolejki z wykładu\n",
    "class Empty(Exception):\n",
    "    pass\n",
    "class Queue:\n",
    "    DEFAULT_CAPACITY = 10\n",
    "    \n",
    "    def __init__(self):\n",
    "        self._data = [None] * Queue.DEFAULT_CAPACITY\n",
    "        self._size = 0\n",
    "        self._front = 0\n",
    "    \n",
    "    def __len__(self):\n",
    "        return self._size\n",
    "    \n",
    "    def __str__(self):\n",
    "        return str(self._data) + f\" ,{self.first()}\"\n",
    "\n",
    "    def is_empty(self):\n",
    "        return self._size == 0\n",
    "    \n",
    "    def first(self):\n",
    "        if self.is_empty():\n",
    "            raise Empty('Queue is empty')\n",
    "        return self._data[self._front]\n",
    "\n",
    "    def dequeue(self):\n",
    "        if self.is_empty():\n",
    "            raise Empty(\"Queue is empty\")\n",
    "        value = self._data[self._front]\n",
    "        self._data[self._front] = None\n",
    "        self._front = (self._front + 1) % len(self._data)\n",
    "        self._size -= 1\n",
    "        #te linijki przeszkadzają w implementacji stosu za pomocą kolejki\n",
    "        if self._size <= round(len(self._data)/4):\n",
    "            self.resize(round(len(self._data)/2))\n",
    "        return value\n",
    "\n",
    "    def enqueue(self, e):\n",
    "        if self._size == len(self._data):\n",
    "            self.resize(2*len(self._data))\n",
    "        avail = (self._front + self._size) % len(self._data)\n",
    "        self._data[avail] = e\n",
    "        self._size += 1\n",
    "\n",
    "    def resize(self,cap):\n",
    "        old = self._data\n",
    "        self._data = [None]*cap\n",
    "        walk = self._front\n",
    "        for k in range(self._size):\n",
    "            self._data[k] = old[walk]\n",
    "            walk = (1 + walk) % len(old)\n",
    "        self._front = 0\n",
    "        \n"
   ]
  },
  {
   "cell_type": "code",
   "execution_count": 200,
   "metadata": {},
   "outputs": [
    {
     "name": "stdout",
     "output_type": "stream",
     "text": [
      "4\n",
      "[None, 1, 1, 1, 1, None, None, None, None, None] ,1\n"
     ]
    }
   ],
   "source": [
    "queue = Queue()\n",
    "queue.enqueue(1)\n",
    "queue.enqueue(1)\n",
    "queue.enqueue(1)\n",
    "queue.enqueue(1)\n",
    "queue.enqueue(1)\n",
    "queue.enqueue(1)\n",
    "queue.enqueue(1)\n",
    "queue.enqueue(1)\n",
    "queue.enqueue(1)\n",
    "queue.enqueue(1)\n",
    "queue.enqueue(1)\n",
    "queue.dequeue()\n",
    "queue.dequeue()\n",
    "queue.dequeue()\n",
    "queue.dequeue()\n",
    "queue.dequeue()\n",
    "queue.dequeue()\n",
    "queue.dequeue()\n",
    "\n",
    "\n",
    "print(queue._size)\n",
    "print(queue)"
   ]
  },
  {
   "cell_type": "markdown",
   "metadata": {},
   "source": [
    "# Zad 6"
   ]
  },
  {
   "cell_type": "code",
   "execution_count": 201,
   "metadata": {},
   "outputs": [],
   "source": [
    "class DoubleQueue:\n",
    "    DEFAULT_CAPACITY = 10\n",
    "    \n",
    "    def __init__(self):\n",
    "        #deklaracja najważniejszych stałych\n",
    "        self._data = [None] * DoubleQueue.DEFAULT_CAPACITY\n",
    "        self._size = 0\n",
    "        self._front = 0   \n",
    "    \n",
    "    def __len__(self):\n",
    "        return self._size\n",
    "    \n",
    "    def __str__(self):\n",
    "        # zaczynając od indexu self._front i zwiększając go (idąc w prawo w tablicy) wypisujemy wszystkie elementy po kolej do nowej i wypisujemy\n",
    "        toprint = []\n",
    "        for i in range(self._size):\n",
    "            toprint.append(self._data[(self._front + i) % len(self._data)])\n",
    "        return(str(toprint) + f\", front:{self.front()}, back:{self.back()}\")\n",
    "\n",
    "    def is_empty(self):\n",
    "        return self._size == 0\n",
    "    \n",
    "\n",
    "    def resize(self,cap):\n",
    "        old = self._data\n",
    "        self._data = [None]*cap\n",
    "        walk = self._front\n",
    "        for k in range(self._size):\n",
    "            self._data[k] = old[walk]\n",
    "            walk = (1 + walk) % len(old)\n",
    "        self._front = 0\n",
    "\n",
    "    def front(self): \n",
    "        if self.is_empty():\n",
    "            raise Empty(\"Queue is empty\")\n",
    "        else:\n",
    "            return self._data[self._front]\n",
    "\n",
    "    def back(self):\n",
    "        if self.is_empty():\n",
    "            raise Empty(\"Queue is empty\")\n",
    "        else:\n",
    "            return self._data[(self._front + self._size - 1) % len(self._data)]\n",
    "\n",
    "    def add_first(self,el):\n",
    "        #dodając element na początek kolejki patrzymy co jest \"na lewo\" od indexu self._front i tam wstawiamy nowy element,\n",
    "        #jesli self._front to 0 to idziemy od końca\n",
    "        if self._front == 0:\n",
    "            if self._data[len(self._data) - 1] != None:\n",
    "                self.resize(len(self._data)*2)\n",
    "            self._front = len(self._data) - 1\n",
    "            self._data[self._front] = el\n",
    "            self._size +=1\n",
    "            \n",
    "        else:\n",
    "            if self._data[self._front - 1] != None:\n",
    "                self.resize(len(self._data)*2)\n",
    "            self._front -= 1 \n",
    "            self._data[self._front] = el\n",
    "            self._size += 1\n",
    "    \n",
    "    \n",
    "    def add_last(self,el):\n",
    "        #dodając element na koniec kolejki dodajemy go \"na prawo\" od wszystkich elementów, zaczynamy od indexu self._front, idziemy tyle kroków ile jest elementów\n",
    "        #w kolejce (w razie potrzeby wracamy na początek tablicy) i sprawdzamy miejsce docelowe\n",
    "        if self._data[(self._front + self._size) % len(self._data)] != None:\n",
    "            self.resize(len(self._data)*2)\n",
    "        self._data[(self._front + self._size) % len(self._data)] = el\n",
    "        self._size += 1\n",
    "\n",
    "    def delete_first(self):\n",
    "        #wyciągany element o indexie self._front\n",
    "        value = self._data[self._front]\n",
    "        self._data[self._front] = None\n",
    "        self._front = (self._front + 1) % len(self._data)\n",
    "        self._size -= 1\n",
    "        return value\n",
    "\n",
    "    def delete_last(self):\n",
    "        #wyciągamy element o indexie self._front zwiększony o liczbę elementów (zawinięty)\n",
    "        value = self._data[(self._front + self._size - 1) % len(self._data)]\n",
    "        self._data[(self._front + self._size - 1) % len(self._data)] = None\n",
    "        self._size -= 1\n",
    "        return value\n",
    "\n",
    "\n",
    "\n",
    "\n"
   ]
  },
  {
   "cell_type": "code",
   "execution_count": 202,
   "metadata": {},
   "outputs": [
    {
     "name": "stdout",
     "output_type": "stream",
     "text": [
      "[2, 1, 3], front:2, back:3\n"
     ]
    }
   ],
   "source": [
    "dque = DoubleQueue()\n",
    "dque.add_first(1)\n",
    "dque.add_first(2)\n",
    "dque.add_last(3)\n",
    "print(dque)\n",
    "\n"
   ]
  },
  {
   "cell_type": "markdown",
   "metadata": {},
   "source": [
    "# Deklaracja stosu do zadań 7, 8, 10"
   ]
  },
  {
   "cell_type": "code",
   "execution_count": 203,
   "metadata": {},
   "outputs": [],
   "source": [
    "class Stack():\n",
    "    def __init__(self):\n",
    "        self._data = []     #nowy pusty stos\n",
    "\n",
    "    def __len__(self):\n",
    "        return len(self._data)\n",
    "    \n",
    "    def is_empty(self):\n",
    "        return len(self._data) == 0\n",
    "    \n",
    "    def push(self, e):\n",
    "        self._data.append(e)\n",
    "\n",
    "    def top(self):\n",
    "        if self.is_empty():\n",
    "            raise Empty('Stack is empty')\n",
    "        return self._data[-1]\n",
    "    def pop(self):\n",
    "        if self.is_empty():\n",
    "            raise Empty('Stack is empty')\n",
    "        return self._data.pop()"
   ]
  },
  {
   "cell_type": "markdown",
   "metadata": {},
   "source": [
    "# Zadanie 7"
   ]
  },
  {
   "cell_type": "code",
   "execution_count": 214,
   "metadata": {},
   "outputs": [],
   "source": [
    "def html_check(txt):\n",
    "    \"\"\"\n",
    "    Opis:  \n",
    "        Funkcja sprawdzająca poprawność składni html danego ciągu znaków\n",
    "\n",
    "    Argumenty:\n",
    "        txt : str \n",
    "            string zawierający kod html do sprawdzenia\n",
    "\n",
    "    Zwraca:\n",
    "        - True dla poprawnej składni\n",
    "        - False dla niepoprawnej składni\n",
    "    \n",
    "    \"\"\"\n",
    "\n",
    "    #regexy\n",
    "    comments =  \"<!--.*?-->\"\n",
    "    declarations = \"<!.*?>\"\n",
    "    html_tag = \"<.*?>\"\n",
    "\n",
    "    #tablica samozamykających się znaczników\n",
    "    self_closing = [\"area\",\"base\",\"br\",\"col\",\"embed\",\"hr\",\"img\",\"link\",\"meta\",\"param\",\"source\",\"track\",\"wbr\",\"command\",\"keygen\",\"menuitem\",\"frame\"]\n",
    "\n",
    "    txt = re.sub(comments,\"\",txt)               #usuwa komentarze\n",
    "    txt = re.sub(declarations,\"\",txt)           #usuwa deklaracje\n",
    "\n",
    "    result = re.findall(html_tag,txt)           #znajdujemy wszystkie pozostałe znaczniki\n",
    "\n",
    "    #wycinamy tylko nazwę samego znacznika oraz znak /, bez znaków <>, bez atrybutów, znaków białych i tym podobnych\n",
    "    tags=[]\n",
    "    for el in result:\n",
    "        splited = el.split(\" \")\n",
    "        if len(splited) > 1:\n",
    "            tags.append(el[1:len(splited[0])].lower())      #wybiera tylko znaki znacznika do pierwszej spacji\n",
    "            #print(el[1:len(splited[0])])  \n",
    "        else:\n",
    "            tags.append(el[1:-1].lower())                   \n",
    "            #print(el[1:-1]) \n",
    "\n",
    "\n",
    "    tag_stack = Stack()\n",
    "    correct = True\n",
    "\n",
    "    #wykonujemy dla każdego znalezionego znacznika\n",
    "    while len(tags):\n",
    "        if tags[0] in self_closing:             #pomijamy samozamykające się \n",
    "            tags.pop(0)\n",
    "            continue\n",
    "        if (len(tag_stack) > 0) and tags[0][0] == \"/\":      #dla zamykających sprawdzamy górę stosu czy pasują do siebie\n",
    "            if (tag_stack.top() != tags[0][1:]):  \n",
    "                correct = False                #jeśli się różnią to jest to błąd składni\n",
    "                break\n",
    "            else:\n",
    "                tag_stack.pop()\n",
    "                tags.pop(0)\n",
    "        else:                                               #wszystkie otwierające dodajemy do stosu\n",
    "            tag_stack.push(tags.pop(0))\n",
    "\n",
    "    #obsługa wyniku\n",
    "    if correct and tag_stack.is_empty():\n",
    "        print(\"Składnia poprawna\")\n",
    "        return 1\n",
    "    else:\n",
    "        print(\"Składnia niepoprawna\")\n",
    "        return(0)\n",
    "\n",
    "\n",
    "\n",
    "\n"
   ]
  },
  {
   "cell_type": "code",
   "execution_count": 218,
   "metadata": {},
   "outputs": [
    {
     "name": "stdout",
     "output_type": "stream",
     "text": [
      "Składnia niepoprawna\n"
     ]
    },
    {
     "data": {
      "text/plain": [
       "0"
      ]
     },
     "execution_count": 218,
     "metadata": {},
     "output_type": "execute_result"
    }
   ],
   "source": [
    "file = open(\"../assets/HTML_sample3.txt\",\"r\")\n",
    "txt = file.read()\n",
    "html_check(txt)\n",
    "\n"
   ]
  },
  {
   "cell_type": "markdown",
   "metadata": {},
   "source": [
    "# Zadanie 8"
   ]
  },
  {
   "cell_type": "code",
   "execution_count": 220,
   "metadata": {},
   "outputs": [],
   "source": [
    "def permstack(seq):\n",
    "    \"\"\"\n",
    "    Opis:  \n",
    "        Funkcja wypisująca wszystkie permutacje podanego zbioru\n",
    "\n",
    "    Argumenty:\n",
    "        seq : list \n",
    "            lista zawierająca dowolne elementy\n",
    "\n",
    "    Zwraca:\n",
    "        -\n",
    "    \n",
    "    \"\"\"\n",
    "    obj = [seq,[]]  # jako pierwszy element: zbiór pozostałych elementów do ustawienia w ciąg, po prawej: pojedyńcza permutacja\n",
    "\n",
    "    stack = Stack()\n",
    "\n",
    "    stack.push(obj)     # zaczynamy mając wszystkie elementy zbioru do wykorzystania / ustawienia w ciąg\n",
    "    while len(stack)>0:\n",
    "        obj = stack.pop()\n",
    "        if len(obj[0]) > 1:              \n",
    "            #jeśli pozostało więcej niż 1 wyrazów do ustawienia w ciąg to dla każdego takiego wyrazu dodajemy na stos nowy obj gdzie dany wyraz usuwamy z pierwszej pozycji i dodajemy na drugą, obecny obj zostaje usunięty i nie wraca na stos    \n",
    "            for i in range(0,len(obj[0])):     \n",
    "                stack.push([obj[0][:i]+obj[0][i+1:], obj[1] + [obj[0][i]]])\n",
    "        else:\n",
    "            #przypadek bazowy, jeśli pozostał tylko jeden element do ustawienia (pierwszy element obj) to mamy gotową permutację\n",
    "            print(obj[1]+obj[0])\n",
    "\n",
    "    "
   ]
  },
  {
   "cell_type": "code",
   "execution_count": 208,
   "metadata": {},
   "outputs": [
    {
     "name": "stdout",
     "output_type": "stream",
     "text": [
      "[3, 2, 1]\n",
      "[3, 1, 2]\n",
      "[2, 3, 1]\n",
      "[2, 1, 3]\n",
      "[1, 3, 2]\n",
      "[1, 2, 3]\n"
     ]
    }
   ],
   "source": [
    "permstack([1,2,3])\n"
   ]
  },
  {
   "cell_type": "markdown",
   "metadata": {},
   "source": [
    "# Zad 9 \n"
   ]
  },
  {
   "cell_type": "code",
   "execution_count": 209,
   "metadata": {},
   "outputs": [],
   "source": [
    "class QueueStack():\n",
    "    def __init__(self):\n",
    "        self._queue = Queue()\n",
    "\n",
    "    def __len__(self):\n",
    "        return self._queue._size\n",
    "\n",
    "    def __str__(self):\n",
    "        return str(self._queue._data)\n",
    "    \n",
    "    def is_empty(self):\n",
    "        return self._queue._size == 0\n",
    "    \n",
    "    def push(self, e):\n",
    "        self._queue.enqueue(e)\n",
    "\n",
    "    def top(self):\n",
    "        if self.is_empty():\n",
    "            raise Empty('Stack is empty')\n",
    "        return self._queue._data[self._queue._front + self._queue._size -1]\n",
    "    \n",
    "    def pop(self):\n",
    "        #jeśli w queue będzie działał resize zmniejszający, to nie zadziała\n",
    "        if self.is_empty():\n",
    "            raise Empty('Stack is empty')\n",
    "        else:\n",
    "            # na chwilę ustawiamy front jako koniec kolejki by wyciągnąć ostatni element który został dodany, następnie ustawiamy front na początek kolejki\n",
    "            self._queue._front = (self._queue._front + self._queue._size -1) % len(self._queue._data)\n",
    "            val = self._queue.dequeue()\n",
    "            self._queue._front = 0\n",
    "            return  val"
   ]
  },
  {
   "cell_type": "code",
   "execution_count": 210,
   "metadata": {},
   "outputs": [
    {
     "name": "stdout",
     "output_type": "stream",
     "text": [
      "3\n",
      "3\n",
      "0\n",
      "[None, None, None, None, None]\n"
     ]
    }
   ],
   "source": [
    "thing = QueueStack()\n",
    "thing.push(1)\n",
    "thing.push(2)\n",
    "thing.push(3)\n",
    "print(thing.top())\n",
    "print(len(thing))\n",
    "print(thing._queue._front)\n",
    "thing.pop()\n",
    "\n",
    "\n",
    "\n",
    "print(thing)"
   ]
  },
  {
   "cell_type": "markdown",
   "metadata": {},
   "source": [
    "# Zad 10\n",
    "    "
   ]
  },
  {
   "cell_type": "code",
   "execution_count": 211,
   "metadata": {},
   "outputs": [],
   "source": [
    "class StackQueue():\n",
    "    def __init__(self):\n",
    "        self._stack1 = Stack()\n",
    "        self._stack2 = Stack()\n",
    "\n",
    "    def __len__(self):\n",
    "        return len(self._stack1)\n",
    "    \n",
    "    def __str__(self):\n",
    "        if self._stack1.is_empty():\n",
    "            return(f\"{self._stack1._data}\")\n",
    "        else:\n",
    "            return(f\"{self._stack1._data}, first:{self._stack1._data[0]}\")\n",
    "    \n",
    "    def is_empty(self):\n",
    "        return self._stack1.is_empty()\n",
    "    \n",
    "    def enqueue(self,el):\n",
    "        self._stack1.push(el)\n",
    "    \n",
    "    def dequeue(self):\n",
    "        #za pomocą drugiego stosu odwracamy kolejność elementów, by mieć pierwszy dodany element na wierzchu i móc go wyciągnąć\n",
    "        for i in range(len(self._stack1)):\n",
    "            self._stack2.push(self._stack1.pop())\n",
    "        value = self._stack2.pop()\n",
    "        \n",
    "        #czyścimy pierwszy stack1 i pushując do niego po kolej elementy z drugiego stack2 otrzymujemy znowu poprawną kolejność kolejki\n",
    "        self._stack1 = Stack()\n",
    "        for i in range(len(self._stack2)):\n",
    "            self._stack1.push(self._stack2.pop())\n",
    "        self._stack2 = Stack()\n",
    "        return value\n",
    "        \n",
    "            \n",
    "    "
   ]
  },
  {
   "cell_type": "code",
   "execution_count": 212,
   "metadata": {},
   "outputs": [
    {
     "name": "stdout",
     "output_type": "stream",
     "text": [
      "0\n",
      "[1, 2, 3], first:1\n"
     ]
    }
   ],
   "source": [
    "stackqueue = StackQueue()\n",
    "stackqueue.enqueue(0)\n",
    "stackqueue.enqueue(1)\n",
    "stackqueue.enqueue(2)\n",
    "stackqueue.enqueue(3)\n",
    "print(stackqueue.dequeue())\n",
    "print(stackqueue)"
   ]
  }
 ],
 "metadata": {
  "kernelspec": {
   "display_name": "Python 3",
   "language": "python",
   "name": "python3"
  },
  "language_info": {
   "codemirror_mode": {
    "name": "ipython",
    "version": 3
   },
   "file_extension": ".py",
   "mimetype": "text/x-python",
   "name": "python",
   "nbconvert_exporter": "python",
   "pygments_lexer": "ipython3",
   "version": "3.8.6"
  }
 },
 "nbformat": 4,
 "nbformat_minor": 2
}
